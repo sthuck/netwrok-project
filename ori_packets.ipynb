{
 "cells": [
  {
   "cell_type": "code",
   "execution_count": 7,
   "outputs": [],
   "source": [
    "import dpkt\n",
    "import json\n",
    "import socket\n",
    "import argparse\n",
    "import ipaddress\n",
    "from typing import NamedTuple,Dict, Union\n",
    "from abc import ABC\n",
    "\n",
    "class AbstractConfig(ABC):\n",
    "\tdef verify(self, ip_packet: dpkt.ip.IP) -> bool:\n",
    "\t\tpass\n",
    "\n",
    "class PacketTracker(NamedTuple):\n",
    "\tsize: int\n",
    "\tpackets: int\n",
    "\tconnections: int\n",
    "\n",
    "\n",
    "def get_ip_addr(ip_section) -> tuple:\n",
    "\tif 'source-ipv4-network' in ip_section:\n",
    "\t\treturn ip_section['source-ipv4-network'], None\n",
    "\tif 'ietf-acldns:src-dnsname' in ip_section:\n",
    "\t\treturn socket.gethostbyname(ip_section['ietf-acldns:src-dnsname']) + '/32', None\n",
    "\tif 'ietf-acldns:dst-dnsname' in ip_section:\n",
    "\t\treturn None, socket.gethostbyname(ip_section['ietf-acldns:dst-dnsname']) + '/32'\n",
    "\tif 'destination-ipv4-network' in ip_section:\n",
    "\t\treturn None, ip_section['destination-ipv4-network']\n",
    "\treturn None, None\n",
    "\n",
    "\n",
    "def parse_config(config_file):\n",
    "\tconfigs:Dict[AbstractConfig , PacketTracker] = {}\n",
    "\twith open(config_file) as f:\n",
    "\t\tconfig_json = json.loads(f.read())\n",
    "\n",
    "\tfor entry in config_json['ietf-access-control-list:access-lists']['acl']:\n",
    "\t\tfor c in entry['aces']['ace']:\n",
    "\t\t\tif c['matches'].get('ipv4') is None:\n",
    "\t\t\t\tcontinue\n",
    "\t\t\tsrc_ip_addr, dst_ip_addr = get_ip_addr(c['matches']['ipv4'])\n",
    "\t\t\tc_ip = ConfigIP(c['matches']['ipv4']['protocol'], src_ip_addr, dst_ip_addr)\n",
    "\t\t\tif c['matches']['ipv4']['protocol'] == dpkt.ip.IP_PROTO_ICMP:\n",
    "\t\t\t\tconfigs[ConfigICMP(c['matches']['icmp']['type'], c['matches']['icmp']['code'], c_ip)] = PacketTracker(0,0,0)\n",
    "\t\t\telif c['matches']['ipv4']['protocol'] == dpkt.ip.IP_PROTO_UDP:\n",
    "\t\t\t\tconfigs[\n",
    "\t\t\t\t\tConfigUDP(\n",
    "\t\t\t\t\t\tc_ip,\n",
    "\t\t\t\t\t\tc['matches']['udp'].get('destination-port', dict()).get('port'),\n",
    "\t\t\t\t\t\tc['matches']['udp'].get('source-port', dict()).get('port'),\n",
    "\t\t\t\t\t)\n",
    "\t\t\t\t] = PacketTracker(0,0,0)\n",
    "\t\t\telif c['matches']['ipv4']['protocol'] == dpkt.ip.IP_PROTO_TCP:\n",
    "\t\t\t\tconfigs[\n",
    "\t\t\t\t\tConfigTCP(\n",
    "\t\t\t\t\t\tc_ip,\n",
    "\t\t\t\t\t\tc['matches']['tcp'].get('destination-port', dict()).get('port'),\n",
    "\t\t\t\t\t\tc['matches']['tcp'].get('source-port', dict()).get('port'),\n",
    "\t\t\t\t\t)\n",
    "\t\t\t\t] = PacketTracker(0,0,0)\n",
    "\n",
    "\treturn configs\n",
    "\n",
    "\n",
    "def iterate_pcap(filename, configs: Dict[AbstractConfig, PacketTracker]):\n",
    "\twith open(filename, 'rb') as f:\n",
    "\t\ttotal_bandwidth = 0\n",
    "\t\tfor timestamp, buffer in dpkt.pcapng.Reader(f):\n",
    "\t\t\teth_packet = dpkt.ethernet.Ethernet(buffer)\n",
    "\t\t\tif eth_packet.type != dpkt.ethernet.ETH_TYPE_IP:\n",
    "\t\t\t\tcontinue\n",
    "\t\t\ttotal_bandwidth += eth_packet.data.len\n",
    "\t\t\tfor config, data in configs.items():\n",
    "\t\t\t\tif config.verify(eth_packet.data):\n",
    "\t\t\t\t\tdata.packets += 1\n",
    "\t\t\t\t\tdata.size += eth_packet.data.len\n",
    "\treturn configs, total_bandwidth\n",
    "\n",
    "def main(config: str, pcap):\n",
    "\tconfigs = parse_config(config)\n",
    "\treturn iterate_pcap(pcap, configs)"
   ],
   "metadata": {
    "collapsed": false,
    "pycharm": {
     "name": "#%%\n"
    }
   }
  },
  {
   "cell_type": "code",
   "execution_count": 12,
   "outputs": [],
   "source": [
    "usa_pcap_usa_rule, tota_bw_usa = main('xiaomi_hub_merged_usMud.json','xiaomi-hub_merged_us.pcapng')"
   ],
   "metadata": {
    "collapsed": false,
    "pycharm": {
     "name": "#%%\n"
    }
   }
  },
  {
   "cell_type": "code",
   "execution_count": 61,
   "outputs": [],
   "source": [
    "usa_pcap_uk_rule, tota_bw_usa = main('xiaomi_hub_merged_ukMud.json','xiaomi-hub_merged_us.pcap')"
   ],
   "metadata": {
    "collapsed": false,
    "pycharm": {
     "name": "#%%\n"
    }
   }
  },
  {
   "cell_type": "code",
   "execution_count": 62,
   "outputs": [],
   "source": [
    "uk_pcap_usa_rule, tota_bw_uk = main('xiaomi_hub_merged_usMud.json','xiaomi-hub_merged_us.pcap')"
   ],
   "metadata": {
    "collapsed": false,
    "pycharm": {
     "name": "#%%\n"
    }
   }
  },
  {
   "cell_type": "code",
   "execution_count": 63,
   "outputs": [],
   "source": [
    "uk_pcap_uk_rule, tota_bw_uk = main('xiaomi_hub_merged_ukMud.json','xiaomi-hub_merged_us.pcap')"
   ],
   "metadata": {
    "collapsed": false,
    "pycharm": {
     "name": "#%%\n"
    }
   }
  },
  {
   "cell_type": "code",
   "execution_count": 11,
   "outputs": [
    {
     "data": {
      "text/plain": "{UDP: filtered for dest_port: 67, src_port:None filtered for dest_ip: None, src_ip:None protocol: 17: [28,\n  9408],\n UDP: filtered for dest_port: 8053, src_port:None filtered for dest_ip: 161.117.52.228/32, src_ip:None protocol: 17: [0,\n  0],\n UDP: filtered for dest_port: None, src_port:54321 filtered for dest_ip: None, src_ip:None protocol: 17: [2045,\n  240908],\n UDP: filtered for dest_port: 5353, src_port:None filtered for dest_ip: 224.0.0.251/32, src_ip:None protocol: 17: [770,\n  267986],\n UDP: filtered for dest_port: None, src_port:8053 filtered for dest_ip: None, src_ip:161.117.52.228/32 protocol: 17: [0,\n  0],\n UDP: filtered for dest_port: 54321, src_port:None filtered for dest_ip: None, src_ip:None protocol: 17: [1816,\n  181520],\n UDP: filtered for dest_port: None, src_port:67 filtered for dest_ip: None, src_ip:None protocol: 17: [28,\n  9272]}"
     },
     "execution_count": 11,
     "metadata": {},
     "output_type": "execute_result"
    }
   ],
   "source": [
    "usa_pcap_usa_rule"
   ],
   "metadata": {
    "collapsed": false,
    "pycharm": {
     "name": "#%%\n"
    }
   }
  },
  {
   "cell_type": "code",
   "execution_count": null,
   "outputs": [],
   "source": [
    "\n",
    "# def get_args():\n",
    "# \tparser = argparse.ArgumentParser(description='Pcap parser')\n",
    "# \tparser.add_argument('-f', '--file', dest='filename', required=True, help='pcap to parse')\n",
    "# \tparser.add_argument('-c', '--config', dest='config', required=True, help='config file')\n",
    "#\n",
    "# \treturn parser.parse_args()"
   ],
   "metadata": {
    "collapsed": false,
    "pycharm": {
     "name": "#%%\n"
    }
   }
  }
 ],
 "metadata": {
  "kernelspec": {
   "display_name": "Python 3",
   "language": "python",
   "name": "python3"
  },
  "language_info": {
   "codemirror_mode": {
    "name": "ipython",
    "version": 2
   },
   "file_extension": ".py",
   "mimetype": "text/x-python",
   "name": "python",
   "nbconvert_exporter": "python",
   "pygments_lexer": "ipython2",
   "version": "2.7.6"
  }
 },
 "nbformat": 4,
 "nbformat_minor": 0
}